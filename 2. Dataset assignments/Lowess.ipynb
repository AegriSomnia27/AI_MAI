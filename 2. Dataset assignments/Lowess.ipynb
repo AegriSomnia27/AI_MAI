{
 "cells": [
  {
   "cell_type": "markdown",
   "id": "af55c63e",
   "metadata": {},
   "source": [
    "# Implementation of LOWESS Regression Algorithm\n"
   ]
  },
  {
   "cell_type": "code",
   "execution_count": 1,
   "id": "3c2c9808",
   "metadata": {},
   "outputs": [],
   "source": [
    "import numpy as np\n",
    "import scipy as sc\n",
    "import matplotlib.pyplot as plt"
   ]
  },
  {
   "cell_type": "markdown",
   "id": "0f550040",
   "metadata": {},
   "source": [
    "# Data generating function\n",
    "Used for generating data with or without noise"
   ]
  },
  {
   "cell_type": "code",
   "execution_count": 2,
   "id": "2d71942b",
   "metadata": {},
   "outputs": [],
   "source": [
    "def function(x):\n",
    "     return np.sin(x)"
   ]
  },
  {
   "cell_type": "code",
   "execution_count": 3,
   "id": "fd7ebbc2",
   "metadata": {},
   "outputs": [],
   "source": [
    "def find_y(x, is_noisy:bool=True, mean=0.0, sigma=0.75):\n",
    "    if is_noisy:\n",
    "        return function(x) + np.random.normal(mean,sigma)\n",
    "    else:\n",
    "        return function(x)"
   ]
  },
  {
   "cell_type": "code",
   "execution_count": 4,
   "id": "d01b9898",
   "metadata": {},
   "outputs": [],
   "source": [
    "def generate_data(left_bound, right_bound, number_of_points=100, is_noisy:bool=True):\n",
    "    points_x = np.linspace(left_bound, right_bound, num=number_of_points)\n",
    "    points_y = [find_y(x, is_noisy) for x in points_x]\n",
    "    return points_x, points_y"
   ]
  },
  {
   "cell_type": "markdown",
   "id": "6eb32e5d",
   "metadata": {},
   "source": [
    "# Kernels\n",
    "1. Uniform\n",
    "2. Triangle\n",
    "3. Epanechnikov (a very hard second name)\n",
    "4. Quartic\n",
    "5. Gaussuian\n",
    "\n",
    "TODO: add more Kernels\n"
   ]
  },
  {
   "cell_type": "markdown",
   "id": "bbc78b0f",
   "metadata": {},
   "source": [
    "#### Uniform Kernel $[|r| \\leq 1]$"
   ]
  },
  {
   "cell_type": "code",
   "execution_count": 5,
   "id": "c51b62b7",
   "metadata": {},
   "outputs": [],
   "source": [
    "def uniform_kernel(x, x0, h=1.0) -> np.ndarray:\n",
    "    # initialize weights\n",
    "    weights = np.zeros(x.shape)\n",
    "    r = np.abs((x - x0)/h)\n",
    "    \n",
    "    # find where r <= 1\n",
    "    indx = np.where(r <= 1)\n",
    "    weights[indx] = 1\n",
    "    return weights\n",
    "    "
   ]
  },
  {
   "cell_type": "markdown",
   "id": "aa424087",
   "metadata": {},
   "source": [
    "#### Triangle Kernel $(1 - |r|)\\;[|r|\\leq1]$"
   ]
  },
  {
   "cell_type": "code",
   "execution_count": 6,
   "id": "1d1fda40",
   "metadata": {},
   "outputs": [],
   "source": [
    "def triangle_kernel(x, x0, h=1.0) -> np.ndarray:\n",
    "    # initialize weights\n",
    "    weights = np.zeros(x.shape)\n",
    "    r = np.abs((x - x0)/h)\n",
    "    \n",
    "    # find where r <= 1\n",
    "    indx = np.where(r <= 1)\n",
    "   \n",
    "    weights[indx] = (1 - r[indx])\n",
    "    return weights"
   ]
  },
  {
   "cell_type": "markdown",
   "id": "e663c2b7",
   "metadata": {},
   "source": [
    "#### Epanechnikov Kernel $(1- r^2)\\;[|r|\\leq1]$"
   ]
  },
  {
   "cell_type": "code",
   "execution_count": 7,
   "id": "28080ed6",
   "metadata": {},
   "outputs": [],
   "source": [
    "def epanechnikov_kernel(x, x0, h=1.0) -> np.ndarray:\n",
    "    # initialize weights\n",
    "    weights = np.zeros(x.shape)\n",
    "    r_abs = np.abs((x - x0)/h)\n",
    "    r  = (x - x0) / h\n",
    "    \n",
    "    # find where r <= 1\n",
    "    indx = np.where(r_abs <= 1)\n",
    "    weights[indx] = (1 - r[indx]**2)\n",
    "    return weights"
   ]
  },
  {
   "cell_type": "markdown",
   "id": "fc11565f",
   "metadata": {},
   "source": [
    "#### Quartic Kernel $(1-r^2)^2\\;[|r|\\leq1]$"
   ]
  },
  {
   "cell_type": "code",
   "execution_count": 8,
   "id": "c947e3d7",
   "metadata": {},
   "outputs": [],
   "source": [
    "def quartic_kernel(x, x0, h=1.0) -> np.ndarray:\n",
    "    # initialize weights\n",
    "    weights = np.zeros(x.shape)\n",
    "    r = np.abs((x - x0)/h)\n",
    "    \n",
    "    # find where r <= 1\n",
    "    indx = np.where(r <= 1)\n",
    "    weights[indx] = (1 - r[indx]**2)**2\n",
    "    return weights"
   ]
  },
  {
   "cell_type": "markdown",
   "id": "76e4e059",
   "metadata": {},
   "source": [
    "#### Gaussian Kernel $exp(-2r^2)$"
   ]
  },
  {
   "cell_type": "code",
   "execution_count": 9,
   "id": "9f4e2700",
   "metadata": {},
   "outputs": [],
   "source": [
    "def gaussian_kernel(x, x0, h=1.0) -> np.ndarray:\n",
    "    # initialize weights\n",
    "    weights = np.zeros(x.shape)\n",
    "    r = (x - x0) / h\n",
    "    \n",
    "    weights = np.exp(-2*r**2)\n",
    "    \n",
    "    return weights"
   ]
  },
  {
   "cell_type": "markdown",
   "id": "7cb32764",
   "metadata": {},
   "source": [
    "## LOWESS Algorithm"
   ]
  },
  {
   "cell_type": "code",
   "execution_count": 10,
   "id": "4dc27304",
   "metadata": {},
   "outputs": [],
   "source": [
    "def lowess(x, y, kernel=uniform_kernel, h=1.0):\n",
    "    length = len(x)\n",
    "    y_est = np.zeros(length)\n",
    "    \n",
    "    # Initialize all weight from the choosen kernel function\n",
    "    w = np.array([kernel(x, x[i], h) for i in range(length)])\n",
    "    \n",
    "    #Looping through all x-points\n",
    "    for i in range(length):\n",
    "        weights = w[:, i]\n",
    "        b = np.array([np.sum(weights * y), np.sum(weights * y * x)])\n",
    "        A = np.array([[np.sum(weights), np.sum(weights * x)],\n",
    "                    [np.sum(weights * x), np.sum(weights * x * x)]])\n",
    "        theta = np.linalg.solve(A, b)\n",
    "        y_est[i] = theta[0] + theta[1] * x[i] \n",
    "\n",
    "    return y_est"
   ]
  },
  {
   "cell_type": "code",
   "execution_count": 12,
   "id": "209cf5b4",
   "metadata": {},
   "outputs": [
    {
     "data": {
      "text/plain": [
       "[<matplotlib.lines.Line2D at 0x1bec8a828b0>]"
      ]
     },
     "execution_count": 12,
     "metadata": {},
     "output_type": "execute_result"
    },
    {
     "data": {
      "image/png": "[encoded data removed]",
      "text/plain": [
       "<Figure size 432x288 with 1 Axes>"
      ]
     },
     "metadata": {
      "needs_background": "light"
     },
     "output_type": "display_data"
    }
   ],
   "source": [
    "x, y = generate_data(-10, 10, 1000)\n",
    "y_est = lowess(x, y, kernel=epanechnikov_kernel, h=1)\n",
    "plt.scatter(x, y)\n",
    "plt.plot(x, y_est, 'red')"
   ]
  }
 ],
 "metadata": {
  "kernelspec": {
   "display_name": "Python 3",
   "language": "python",
   "name": "python3"
  },
  "language_info": {
   "codemirror_mode": {
    "name": "ipython",
    "version": 3
   },
   "file_extension": ".py",
   "mimetype": "text/x-python",
   "name": "python",
   "nbconvert_exporter": "python",
   "pygments_lexer": "ipython3",
   "version": "3.8.8"
  }
 },
 "nbformat": 4,
 "nbformat_minor": 5
}
