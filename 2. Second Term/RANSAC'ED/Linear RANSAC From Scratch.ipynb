{
 "cells": [
  {
   "cell_type": "markdown",
   "id": "74ab9bcc",
   "metadata": {},
   "source": [
    "# Linear RANSAC Algorithm\n"
   ]
  },
  {
   "cell_type": "code",
   "execution_count": 1,
   "id": "1ac0a290",
   "metadata": {},
   "outputs": [],
   "source": [
    "import numpy as np\n",
    "import matplotlib.pyplot as plt"
   ]
  },
  {
   "cell_type": "markdown",
   "id": "cf405c3b",
   "metadata": {},
   "source": [
    "## Data Generation"
   ]
  },
  {
   "cell_type": "code",
   "execution_count": 2,
   "id": "8b34117f",
   "metadata": {},
   "outputs": [],
   "source": [
    "def func(x_point, k, b):\n",
    "    return x_point*k + b"
   ]
  },
  {
   "cell_type": "code",
   "execution_count": 3,
   "id": "d5b9f12b",
   "metadata": {},
   "outputs": [],
   "source": [
    "def generate_y(x_point, k, b, sigma, isOutliers:bool):\n",
    "    y_point = func(x_point, k, b) + np.random.normal(0, sigma)\n",
    "    if(isOutliers):\n",
    "        y_point += np.random.uniform(-30, 30)\n",
    "    return y_point"
   ]
  },
  {
   "cell_type": "code",
   "execution_count": 4,
   "id": "3f4d3db7",
   "metadata": {},
   "outputs": [],
   "source": [
    "def generate_data(k:float=1, b:float=0, numberOfPoints:int=1000, p:float=0.9, sigma:float=1.0):\n",
    "    inliers = int(numberOfPoints*p)\n",
    "    outliers = int(numberOfPoints*(1-p))\n",
    "    \n",
    "    x_points_inliers = np.random.uniform(-10, 10, inliers)\n",
    "    x_points_outliers = np.random.uniform(-10, 10, outliers)\n",
    "    \n",
    "    y_points_inliers = [generate_y(x, k, b, sigma, isOutliers=False) for x in x_points_inliers]\n",
    "    y_points_outliers = [generate_y(x, k, b, sigma, isOutliers=True) for x in x_points_outliers]\n",
    "    \n",
    "    x_points = np.concatenate([x_points_inliers, x_points_outliers])\n",
    "    y_points = np.concatenate([y_points_inliers, y_points_outliers])\n",
    "    \n",
    "    return x_points, y_points"
   ]
  },
  {
   "cell_type": "markdown",
   "id": "68da47c7",
   "metadata": {},
   "source": [
    "## Linear RANSAC"
   ]
  },
  {
   "cell_type": "markdown",
   "id": "a28511bf",
   "metadata": {},
   "source": [
    "### Helper function to find coefficients"
   ]
  },
  {
   "cell_type": "markdown",
   "id": "f068a18f",
   "metadata": {},
   "source": [
    "$y = kx + b$\n",
    "$ \\\\ $\n",
    "$ k = \\dfrac{y_2 - y_1}{x_2 - x_1}$\n",
    "$ \\\\ $\n",
    "$ b = y - kx$"
   ]
  },
  {
   "cell_type": "code",
   "execution_count": 5,
   "id": "7de50e4b",
   "metadata": {},
   "outputs": [],
   "source": [
    "def find_coefficients(points:np.ndarray):\n",
    "    #print(points[0][0], points[0][1], points[1][1], points[1][0])\n",
    "    k = (points[1][1] - points[0][1]) / (points[1][0] - points[0][0])\n",
    "    b = points[0][1] - k*points[0][0]\n",
    "    return k, b"
   ]
  },
  {
   "cell_type": "code",
   "execution_count": 6,
   "id": "9ad5f093",
   "metadata": {},
   "outputs": [],
   "source": [
    "def linear_ransac(x_points, y_points, iterations=1000, eps = 1.0):\n",
    "    best_score = 0\n",
    "    best_k = 0\n",
    "    best_b = 0\n",
    "    \n",
    "    for iter in range(iterations):\n",
    "        indices = np.random.randint(0, x_points.size-1, size=2)\n",
    "        \n",
    "        if(indices[0]==indices[1]):\n",
    "            break\n",
    "            \n",
    "        k, b = find_coefficients(np.array([\n",
    "                                          [x_points[indices[0]], y_points[indices[0]]],\n",
    "                                          [x_points[indices[1]], y_points[indices[1]]]\n",
    "                                          ]))\n",
    "        current_score = 0\n",
    "        \n",
    "        for index in range(x_points.size):\n",
    "            y_predicted = k*x_points[index] + b\n",
    "            if(np.abs(y_points[index] - y_predicted) < eps):\n",
    "                current_score += 1\n",
    "                \n",
    "        if(current_score > best_score):\n",
    "            best_score = current_score\n",
    "            best_k = k\n",
    "            best_b = b\n",
    "    \n",
    "    print(f\"Best score = {best_score} with precision {best_score / x_points.size}\")\n",
    "    print(f\"Best k: {best_k}; Best b: {best_b} \" )\n",
    "    \n",
    "    return best_k, best_b"
   ]
  },
  {
   "cell_type": "markdown",
   "id": "fcb81495",
   "metadata": {},
   "source": [
    "## Let's test the algorithm"
   ]
  },
  {
   "cell_type": "code",
   "execution_count": 7,
   "id": "2a5b03fe",
   "metadata": {},
   "outputs": [
    {
     "name": "stdout",
     "output_type": "stream",
     "text": [
      "Best score = 89 with precision 0.5973154362416108\n",
      "Best k: 1.0074936518897923; Best b: -0.22655599563188555 \n"
     ]
    }
   ],
   "source": [
    "x, y = generate_data(numberOfPoints=150, sigma=1.0)\n",
    "k, b = linear_ransac(x, y)\n",
    "y_predicted = np.array([-10*k+b, +10*k+b])"
   ]
  },
  {
   "cell_type": "code",
   "execution_count": 8,
   "id": "82058582",
   "metadata": {},
   "outputs": [
    {
     "data": {
      "text/plain": [
       "[<matplotlib.lines.Line2D at 0x1ad92b92be0>]"
      ]
     },
     "execution_count": 8,
     "metadata": {},
     "output_type": "execute_result"
    },
    {
     "data": {
      "image/png": "[encoded data removed]",
      "text/plain": [
       "<Figure size 1440x720 with 1 Axes>"
      ]
     },
     "metadata": {
      "needs_background": "light"
     },
     "output_type": "display_data"
    }
   ],
   "source": [
    "fig = plt.figure(figsize=[20, 10])\n",
    "plt.scatter(x, y)\n",
    "plt.plot((-10,10), y_predicted, \"red\")"
   ]
  }
 ],
 "metadata": {
  "kernelspec": {
   "display_name": "Python 3 (ipykernel)",
   "language": "python",
   "name": "python3"
  },
  "language_info": {
   "codemirror_mode": {
    "name": "ipython",
    "version": 3
   },
   "file_extension": ".py",
   "mimetype": "text/x-python",
   "name": "python",
   "nbconvert_exporter": "python",
   "pygments_lexer": "ipython3",
   "version": "3.8.12"
  }
 },
 "nbformat": 4,
 "nbformat_minor": 5
}
