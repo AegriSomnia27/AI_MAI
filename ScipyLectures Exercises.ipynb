{
 "cells": [
  {
   "cell_type": "markdown",
   "id": "76610038",
   "metadata": {},
   "source": [
    "# First exercise\n",
    "Finding PI value using the Wallis formula"
   ]
  },
  {
   "cell_type": "code",
   "execution_count": null,
   "id": "b94d1605",
   "metadata": {
    "scrolled": true
   },
   "outputs": [],
   "source": [
    "iter = 10000000\n",
    "pi = 1.\n",
    "\n",
    "#computing PI value using Willis formula\n",
    "for i in range (1,iter):\n",
    "    pi *= ((4*(i*i))/((4*(i*i))-1))\n",
    "pi *= 2\n",
    "\n",
    "print(pi)"
   ]
  },
  {
   "cell_type": "markdown",
   "id": "979ebf46",
   "metadata": {},
   "source": [
    "# Exercise: Fibonacci sequence\n",
    "Write a function that displays the n first terms of the Fibonacci sequence"
   ]
  },
  {
   "cell_type": "code",
   "execution_count": null,
   "id": "f2f2797f",
   "metadata": {},
   "outputs": [],
   "source": [
    "def fibonacci(iteration):\n",
    "    fib1 = 0\n",
    "    fib2 = 1\n",
    "    \n",
    "    for i in range (1,iteration):\n",
    "        fib_number = fib1 + fib2\n",
    "        fib1 = fib2\n",
    "        fib2 = fib_number\n",
    "    return fib_number\n",
    "\n",
    "fibonacci(11)"
   ]
  },
  {
   "cell_type": "markdown",
   "id": "1fdd2350",
   "metadata": {},
   "source": [
    "# Exercise: Quick sort algorithm\n",
    "Implement the quicksort algorithm, as defined by wikipedia"
   ]
  },
  {
   "cell_type": "code",
   "execution_count": null,
   "id": "dc1f8b09",
   "metadata": {},
   "outputs": [],
   "source": [
    "def quicksort(list):\n",
    "    less = []\n",
    "    greater = []\n",
    "    equal = []\n",
    "    \n",
    "    if len(list) < 2:\n",
    "        return list\n",
    "    else:\n",
    "        pivot = list[0]\n",
    "        for i in list:\n",
    "            if i < pivot:\n",
    "                less.append(i)\n",
    "            elif i == pivot:\n",
    "                equal.append(i)\n",
    "            elif i > pivot:\n",
    "                greater.append(i)\n",
    "    return quicksort(less)+equal+quicksort(greater)\n",
    "\n",
    "testList2 = [9,8,7,6,5,4,3,2,1,]\n",
    "\n",
    "quicksort(testList2)"
   ]
  },
  {
   "cell_type": "code",
   "execution_count": null,
   "id": "3d2123a3",
   "metadata": {},
   "outputs": [],
   "source": []
  }
 ],
 "metadata": {
  "kernelspec": {
   "display_name": "Python 3 (ipykernel)",
   "language": "python",
   "name": "python3"
  },
  "language_info": {
   "codemirror_mode": {
    "name": "ipython",
    "version": 3
   },
   "file_extension": ".py",
   "mimetype": "text/x-python",
   "name": "python",
   "nbconvert_exporter": "python",
   "pygments_lexer": "ipython3",
   "version": "3.9.7"
  }
 },
 "nbformat": 4,
 "nbformat_minor": 5
}
