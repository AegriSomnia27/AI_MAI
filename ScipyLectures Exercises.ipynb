{
 "cells": [
  {
   "cell_type": "markdown",
   "id": "76610038",
   "metadata": {},
   "source": [
    "# CHAPTER 1\n",
    "## First exercise\n",
    "Finding PI value using the Wallis formula"
   ]
  },
  {
   "cell_type": "code",
   "execution_count": null,
   "id": "b94d1605",
   "metadata": {
    "scrolled": true
   },
   "outputs": [],
   "source": [
    "iter = 10000000\n",
    "pi = 1.\n",
    "\n",
    "#computing PI value using Willis formula\n",
    "for i in range (1,iter):\n",
    "    pi *= ((4*(i*i))/((4*(i*i))-1))\n",
    "pi *= 2\n",
    "\n",
    "print(pi)"
   ]
  },
  {
   "cell_type": "markdown",
   "id": "979ebf46",
   "metadata": {},
   "source": [
    "## Exercise: Fibonacci sequence\n",
    "Write a function that displays the n first terms of the Fibonacci sequence"
   ]
  },
  {
   "cell_type": "code",
   "execution_count": null,
   "id": "f2f2797f",
   "metadata": {},
   "outputs": [],
   "source": [
    "def fibonacci(iteration):\n",
    "    fib1 = 0\n",
    "    fib2 = 1\n",
    "    \n",
    "    for i in range (1,iteration):\n",
    "        fib_number = fib1 + fib2\n",
    "        fib1 = fib2\n",
    "        fib2 = fib_number\n",
    "    return fib_number\n",
    "\n",
    "fibonacci(11)"
   ]
  },
  {
   "cell_type": "markdown",
   "id": "1fdd2350",
   "metadata": {},
   "source": [
    "## Exercise: Quick sort algorithm\n",
    "Implement the quicksort algorithm, as defined by wikipedia"
   ]
  },
  {
   "cell_type": "code",
   "execution_count": null,
   "id": "dc1f8b09",
   "metadata": {},
   "outputs": [],
   "source": [
    "def quicksort(list):\n",
    "    less = []\n",
    "    greater = []\n",
    "    equal = []\n",
    "    \n",
    "    if len(list) < 2:\n",
    "        return list\n",
    "    else:\n",
    "        pivot = list[0]\n",
    "        for i in list:\n",
    "            if i < pivot:\n",
    "                less.append(i)\n",
    "            elif i == pivot:\n",
    "                equal.append(i)\n",
    "            elif i > pivot:\n",
    "                greater.append(i)\n",
    "    return quicksort(less)+equal+quicksort(greater)\n",
    "\n",
    "testList2 = [9,8,7,6,5,4,3,2,1,]\n",
    "\n",
    "quicksort(testList2)"
   ]
  },
  {
   "cell_type": "markdown",
   "id": "6e848a73",
   "metadata": {},
   "source": [
    "# CHAPTER 4\n",
    "## Exercise: Simple arrays \n",
    "Create a simple two dimensional array. First, redo the examples from above. And then create\n",
    "your own: how about odd numbers counting backwards on the first row, and even numbers on\n",
    "the second?\n",
    "\n",
    "Use the functions len(), numpy.shape() on these arrays. How do they relate to each other?\n",
    "And to the ndim attribute of the arrays?"
   ]
  },
  {
   "cell_type": "code",
   "execution_count": null,
   "id": "31d13e6c",
   "metadata": {},
   "outputs": [],
   "source": [
    "import numpy as np\n",
    "a = np.array([[9,7,5,],[8,6,4,]])\n",
    "print(a)\n",
    "print(f\"len of a is {len(a)}\")\n",
    "print(f\"shape of a is {np.shape(a)}\")"
   ]
  },
  {
   "cell_type": "markdown",
   "id": "56a1e59d",
   "metadata": {},
   "source": [
    "## Exercise: Creating arrays using functions\n",
    "• Experiment with arange, linspace, ones, zeros, eye and diag.\n",
    "\n",
    "• Create different kinds of arrays with random numbers.\n",
    "\n",
    "• Try setting the seed before creating an array with random values.\n",
    "\n",
    "• Look at the function np.empty. What does it do? When might this be useful?"
   ]
  },
  {
   "cell_type": "code",
   "execution_count": null,
   "id": "b53e69d6",
   "metadata": {},
   "outputs": [],
   "source": [
    "b = np.arange(0, 15)\n",
    "print (b)\n",
    "c = np.linspace (0, 15, 5)\n",
    "print(c)\n",
    "d = np.ones((5,5))\n",
    "print (d)\n",
    "e = np.zeros((5,2))\n",
    "print (e)\n",
    "f = np.diag(np.array([1,2,3,4,5,6,]))\n",
    "print (f)"
   ]
  },
  {
   "cell_type": "code",
   "execution_count": null,
   "id": "8705bfd8",
   "metadata": {},
   "outputs": [],
   "source": [
    "a = np.random.rand(3,3,3)\n",
    "print (a)"
   ]
  },
  {
   "cell_type": "markdown",
   "id": "8144d54b",
   "metadata": {},
   "source": [
    "# CHAPTER 17\n",
    "## Exercises:\n",
    "1. Calculate $\\sqrt{2}$ with 100 decimals.\n",
    "2. Calculate $\\frac{1}{2} + \\frac{1}{3}$ in rational arithmetic."
   ]
  },
  {
   "cell_type": "code",
   "execution_count": null,
   "id": "7191f612",
   "metadata": {},
   "outputs": [],
   "source": [
    "import sympy as sym\n",
    "#first exercise\n",
    "sym.sqrt(2).evalf(100)"
   ]
  },
  {
   "cell_type": "code",
   "execution_count": null,
   "id": "e8503083",
   "metadata": {},
   "outputs": [],
   "source": [
    "#second exercise\n",
    "a = sym.Rational(1,2)\n",
    "b = sym.Rational(1,3)\n",
    "a+b # после C++ выглядит как чистая магия"
   ]
  },
  {
   "cell_type": "markdown",
   "id": "71c89353",
   "metadata": {},
   "source": [
    "## Exercises:\n",
    "1. Calculate the expanded form of $(x+y)^6$\n",
    "2. Simplify the trigonometric expression $\\frac{\\sin{x}}{\\cos{x}}$"
   ]
  },
  {
   "cell_type": "code",
   "execution_count": null,
   "id": "70299c72",
   "metadata": {},
   "outputs": [],
   "source": [
    "#first exercise\n",
    "x = sym.symbols('x')\n",
    "y = sym.symbols('y')\n",
    "sym.expand((x+y)**6)"
   ]
  },
  {
   "cell_type": "code",
   "execution_count": null,
   "id": "fa9bf32d",
   "metadata": {},
   "outputs": [],
   "source": [
    "#second exercise\n",
    "sym.simplify(sym.sin(x)/sym.cos(x))"
   ]
  },
  {
   "cell_type": "markdown",
   "id": "079b3f37",
   "metadata": {},
   "source": [
    "## Exercises:\n",
    "1. Calculate $\\lim_{x\\to 0}\\frac{\\sin{x}}{x}$\n",
    "2. Calculate the derivate of $\\log x$ for x. "
   ]
  },
  {
   "cell_type": "code",
   "execution_count": null,
   "id": "abf2207a",
   "metadata": {},
   "outputs": [],
   "source": [
    "#first exercise\n",
    "sym.limit(sym.sin(x)/x, x, 0)"
   ]
  },
  {
   "cell_type": "code",
   "execution_count": null,
   "id": "1221a2e3",
   "metadata": {},
   "outputs": [],
   "source": [
    "#second exercise\n",
    "sym.diff(sym.log(x), x)"
   ]
  },
  {
   "cell_type": "markdown",
   "id": "7c2e8453",
   "metadata": {},
   "source": [
    "## Exercises:\n",
    "1. Solve the system of equations $x + y = 2$,  $2\\cdot{x}+{y} = 0$\n",
    "2. Are there boolean values x, y that make (\\~x | y) & (\\~y | x) true?"
   ]
  },
  {
   "cell_type": "code",
   "execution_count": null,
   "id": "74243ad0",
   "metadata": {},
   "outputs": [],
   "source": [
    "#first exercise\n",
    "solution = sym.solve((x+y-2, 2*x+y ), (x,y))\n",
    "solution[x], solution[y]"
   ]
  },
  {
   "cell_type": "code",
   "execution_count": null,
   "id": "1aeb728d",
   "metadata": {},
   "outputs": [],
   "source": [
    "#second exercise\n",
    "sym.satisfiable((~x|y)&(~y|x))"
   ]
  },
  {
   "cell_type": "markdown",
   "id": "69f84128",
   "metadata": {},
   "source": [
    "## Exercises:\n",
    "1. Solve the Bernoulli differential equation\n",
    "$$x\\frac{df(x)}{x}+f(x)-f(x)^2 = 0$$\n",
    "2. Solve the same equation using hint='Bernoulli'. What do you observe?"
   ]
  },
  {
   "cell_type": "code",
   "execution_count": null,
   "id": "6f0c3ad5",
   "metadata": {},
   "outputs": [],
   "source": [
    "#first exercise\n",
    "f = sym.symbols('f', cls=sym.Function)\n",
    "sym.dsolve(x*f(x).diff(x)+f(x)-f(x)**2, f(x))"
   ]
  },
  {
   "cell_type": "code",
   "execution_count": null,
   "id": "660d280f",
   "metadata": {},
   "outputs": [],
   "source": [
    "#second exercise\n",
    "sym.dsolve(x*f(x).diff(x)+f(x)-f(x)**2, f(x), hint='Bernoulli')"
   ]
  }
 ],
 "metadata": {
  "kernelspec": {
   "display_name": "Python 3 (ipykernel)",
   "language": "python",
   "name": "python3"
  },
  "language_info": {
   "codemirror_mode": {
    "name": "ipython",
    "version": 3
   },
   "file_extension": ".py",
   "mimetype": "text/x-python",
   "name": "python",
   "nbconvert_exporter": "python",
   "pygments_lexer": "ipython3",
   "version": "3.9.7"
  }
 },
 "nbformat": 4,
 "nbformat_minor": 5
}
