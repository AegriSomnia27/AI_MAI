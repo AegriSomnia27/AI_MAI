{
 "cells": [
  {
   "cell_type": "code",
   "execution_count": null,
   "id": "c105312f",
   "metadata": {},
   "outputs": [],
   "source": [
    "import pygmo as pg"
   ]
  },
  {
   "cell_type": "code",
   "execution_count": null,
   "id": "dc68de77",
   "metadata": {},
   "outputs": [],
   "source": [
    "class my_func:\n",
    "    \n",
    "    def fitness(self, x):\n",
    "        return [(2*x[0]**2 - 1.05*x[0]**4 + (1/6)*x[0]**6 + x[0]*x[1] + x[1]**2)]\n",
    "    \n",
    "    def get_bounds(self):\n",
    "        return ([-5,5], [5,5])"
   ]
  },
  {
   "cell_type": "code",
   "execution_count": null,
   "id": "5f8e001c",
   "metadata": {},
   "outputs": [],
   "source": [
    "prob = pg.problem(my_func())"
   ]
  },
  {
   "cell_type": "code",
   "execution_count": null,
   "id": "929ad08d",
   "metadata": {},
   "outputs": [],
   "source": [
    "algo = pg.algorithm(pg.bee_colony(gen=50, limit=50))\n",
    "pop = pg.population(prob, 3)\n",
    "pop = algo.evolve(pop)\n",
    "print(pop.champion_f)"
   ]
  },
  {
   "cell_type": "code",
   "execution_count": null,
   "id": "168d79e9",
   "metadata": {},
   "outputs": [],
   "source": []
  }
 ],
 "metadata": {
  "kernelspec": {
   "display_name": "Python 3",
   "language": "python",
   "name": "python3"
  },
  "language_info": {
   "codemirror_mode": {
    "name": "ipython",
    "version": 3
   },
   "file_extension": ".py",
   "mimetype": "text/x-python",
   "name": "python",
   "nbconvert_exporter": "python",
   "pygments_lexer": "ipython3",
   "version": "3.8.8"
  }
 },
 "nbformat": 4,
 "nbformat_minor": 5
}
