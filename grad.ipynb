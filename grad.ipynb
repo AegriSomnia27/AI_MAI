{
 "cells": [
  {
   "cell_type": "code",
   "execution_count": null,
   "id": "458b8a54",
   "metadata": {},
   "outputs": [],
   "source": [
    "import numpy as np\n",
    "import sympy as sym\n",
    "#from sympy.plotting import plot3d\n",
    "import scipy\n",
    "import math\n",
    "import matplotlib.pyplot as plt\n",
    "from matplotlib import patheffects"
   ]
  },
  {
   "cell_type": "code",
   "execution_count": null,
   "id": "25a4eead",
   "metadata": {},
   "outputs": [],
   "source": [
    "#Почему-то у меня в голове был лаг, что f(x,y) = 0 и обязательно нужно находить координату по y. \n",
    "#Хоть эта часть кода и не нужна, я её оставлю. Может когда-нибудь пригодится\n",
    "def GetCoordinateY (Func:sym.core.add.Add, x0):\n",
    "    FuncSubs = sym.lambdify([x,y], Func)\n",
    "    FuncStr = str(FunSubs(x0, y))\n",
    "    CoordinatesY = sym.solve(FuncStr, y)\n",
    "    return CoordinatesY"
   ]
  },
  {
   "cell_type": "code",
   "execution_count": null,
   "id": "8efbc023",
   "metadata": {},
   "outputs": [],
   "source": [
    "#Функция, которая считает градиент с использованием библиотеки sympy\n",
    "def Gradient(Func, Coordinates:np.ndarray):\n",
    "    #Дифференцируем по направлением функцию\n",
    "    SymbolicPartialDerivativeX = Func.diff(x)\n",
    "    SymbolicPartialDerivativeY = Func.diff(y)\n",
    "    \n",
    "    #Вычисляем значения производной в точках\n",
    "    ValuePartialDerivativeX = SymbolicPartialDerivativeX.subs({x:Coordinates[0][0], y:Coordinates[0][1]})\n",
    "    ValuePartialDerivativeY = SymbolicPartialDerivativeY.subs({x:Coordinates[0][0], y:Coordinates[0][1]})\n",
    "    \n",
    "    #Оборачиваем значения в np.ndarray\n",
    "    GradientArray = np.array([\n",
    "                    float(ValuePartialDerivativeX),\n",
    "                    float(ValuePartialDerivativeY),\n",
    "                    ])\n",
    "\n",
    "    return GradientArray*(-1)"
   ]
  },
  {
   "cell_type": "markdown",
   "id": "fe17b998",
   "metadata": {},
   "source": [
    "# Vanilla Gradient Descent "
   ]
  },
  {
   "cell_type": "code",
   "execution_count": null,
   "id": "75bb8a3e",
   "metadata": {},
   "outputs": [],
   "source": [
    "def GradientDescent(Func, Coordinates:np.ndarray, LearningRate:float=0.12,\n",
    "                Epsilon:float=1e-06) -> np.ndarray:\n",
    "    \n",
    "    GradientDescentPathArray = Coordinates\n",
    "    \n",
    "    while True:\n",
    "        Coordinates = Coordinates - LearningRate*Gradient(Func, Coordinates)\n",
    "        GradientDescentPathArray = np.append(GradientDescentPathArray, Coordinates, axis=0)\n",
    "        if np.linalg.norm(Gradient(Func, Coordinates)) < Epsilon:\n",
    "            break\n",
    "            \n",
    "    return GradientDescentPathArray"
   ]
  },
  {
   "cell_type": "markdown",
   "id": "73221e80",
   "metadata": {},
   "source": [
    "# Gradient Descent with a learning rate scheduler"
   ]
  },
  {
   "cell_type": "code",
   "execution_count": null,
   "id": "6bc69398",
   "metadata": {},
   "outputs": [],
   "source": [
    "def GradientDescentSchedule(Func, Coordinates:np.ndarray, LearningRate:float = 0.5,\n",
    "                           Epsilon:float=1e-6, NumberOfIterations=500) -> np.ndarray:\n",
    "    \n",
    "    GradientDescentPathArray = Coordinates\n",
    "    \n",
    "    \n",
    "    for i in range(1, NumberOfIterations+1):\n",
    "        if i%5 == 0:\n",
    "            LearningRate *= (1/i)\n",
    "        Coordinates = Coordinates - LearningRate*Gradient(Func, Coordinates)\n",
    "        GradientDescentPathArray = np.append(GradientDescentPathArray, Coordinates, axis=0)\n",
    "        if np.linalg.norm(Gradient(Func, Coordinates)) < Epsilon:\n",
    "            break\n",
    "    \n",
    "    return GradientDescentPathArray"
   ]
  },
  {
   "cell_type": "markdown",
   "id": "fe82ee04",
   "metadata": {},
   "source": [
    "# Gradient Descent with momentum"
   ]
  },
  {
   "cell_type": "code",
   "execution_count": null,
   "id": "3a4bc7ad",
   "metadata": {},
   "outputs": [],
   "source": [
    "def GradientDescentMomentum(Func, Coordinates:np.ndarray, LearningRate:float=0.05, Momentum:float=0.9,\n",
    "                           Epsilon:float=1e-6, NumberOfIterations = 500) -> np.ndarray:\n",
    "    \n",
    "    GradientDescentPathArray = Coordinates\n",
    "    Velocity = np.zeros((1,Coordinates.size))\n",
    "    \n",
    "    for i in range (NumberOfIterations):\n",
    "        Velocity = Momentum*Velocity + LearningRate*Gradient(Func, Coordinates)\n",
    "        Coordinates -= Velocity\n",
    "        GradientDescentPathArray = np.append(GradientDescentPathArray, Coordinates, axis=0)\n",
    "        if np.linalg.norm(Gradient(Func, Coordinates)) < Epsilon:\n",
    "            break\n",
    "            \n",
    "    return GradientDescentPathArray"
   ]
  },
  {
   "cell_type": "markdown",
   "id": "af07640b",
   "metadata": {},
   "source": [
    "# Gradient Descent visualize function"
   ]
  },
  {
   "cell_type": "code",
   "execution_count": null,
   "id": "6951e073",
   "metadata": {},
   "outputs": [],
   "source": [
    "def Visualize(Func, Coordinates):\n",
    "    figure, auxiliary = plt.subplots(figsize=(10, 10))\n",
    "    \n",
    "    #Выбираем количество точек\n",
    "    NumberOfPointsX = 1000\n",
    "    NumberOfPointsY = 1000\n",
    "    \n",
    "    #Создаём вектора с точками равномерно распределёнными на [-3,3]\n",
    "    SurveyVectorX = np.linspace(-3, 3, num=NumberOfPointsX)\n",
    "    SurveyVectorY = np.linspace(-3, 3, num=NumberOfPointsY)\n",
    "    \n",
    "    #Соединяем полученные точки в две матрицы\n",
    "    SurveyMatrixX, SurveyMatrixY = np.meshgrid(SurveyVectorX, SurveyVectorY)\n",
    "    \n",
    "    #Переводим символьную функцию в функцию на 'чистый' питоне и вычисляем значения\n",
    "    PythonFunction = sym.lambdify((x,y), Func)\n",
    "    SurveyMatrixZ = PythonFunction(SurveyMatrixX, SurveyMatrixY)\n",
    "    GradientCoordinatesZ = PythonFunction(Coordinates[:,0],Coordinates[:,1])\n",
    "    #print(FunctionObject)\n",
    "    \n",
    "    #Рисуем 'ШТУКУ'\n",
    "    ContourLevels = np.unique(GradientCoordinatesZ) #Чтобы 'штука' сгенерировала уровни и не выкидывала ошибку\n",
    "    \n",
    "    PlotContour = auxiliary.contour(SurveyMatrixX, SurveyMatrixY, SurveyMatrixZ,\n",
    "                                    levels=ContourLevels, colors='black')\n",
    "    auxiliary.clabel(PlotContour, fmt=\"%2.1f\", use_clabeltext=True)\n",
    "    \n",
    "    #Рисуем путь, который проделал градиентный спуск\n",
    "    for i in range(len(Coordinates) - 1):\n",
    "        plt.annotate('', xy=Coordinates[i + 1, :], xytext=Coordinates[i, :],\n",
    "                 arrowprops={'arrowstyle': '->', 'color': 'r', 'lw': 1},\n",
    "                 va='center', ha='center')\n",
    " \n",
    "    #Введём ограничения на график\n",
    "    auxiliary.set_xlim(-3, 3)\n",
    "    auxiliary.set_ylim(-3, 3)\n",
    "    \n",
    "    plt.show()"
   ]
  },
  {
   "cell_type": "markdown",
   "id": "c9e14da3",
   "metadata": {},
   "source": [
    "## Трёхгорбая функция\n",
    "$$f(x,y) = 2x^2_1 - 1.05x^4_1+\\frac{1}{6}x^6_1 +x_1x_2+x^2_2$$"
   ]
  },
  {
   "cell_type": "code",
   "execution_count": null,
   "id": "5a66c4de",
   "metadata": {},
   "outputs": [],
   "source": [
    "#Инициализируем символы для sympy\n",
    "x,y = sym.symbols('x, y')\n",
    "Func = sym.symbols('f', cls=sym.Function)\n",
    "\n",
    "#Трёхгорбая функция \n",
    "Func = -2*x**2+1.05*x**4-sym.Rational(1,6)*x**6-x*y-y**2\n",
    "\n",
    "#Первоначальные условия\n",
    "x0, y0 = -0.75, 1.9\n",
    "Coordinates = np.array([[x0, y0]])"
   ]
  },
  {
   "cell_type": "code",
   "execution_count": null,
   "id": "c2cf03bb",
   "metadata": {},
   "outputs": [],
   "source": [
    "Visualize(Func, GradientDescent(Func, Coordinates))"
   ]
  },
  {
   "cell_type": "code",
   "execution_count": null,
   "id": "f73dcff6",
   "metadata": {},
   "outputs": [],
   "source": [
    "Visualize(Func, GradientDescentSchedule(Func, Coordinates))"
   ]
  },
  {
   "cell_type": "code",
   "execution_count": null,
   "id": "24497cf9",
   "metadata": {},
   "outputs": [],
   "source": [
    "Visualize(Func, GradientDescentMomentum(Func, Coordinates))"
   ]
  },
  {
   "cell_type": "code",
   "execution_count": null,
   "id": "13fcd210",
   "metadata": {},
   "outputs": [],
   "source": []
  }
 ],
 "metadata": {
  "kernelspec": {
   "display_name": "Python 3 (ipykernel)",
   "language": "python",
   "name": "python3"
  },
  "language_info": {
   "codemirror_mode": {
    "name": "ipython",
    "version": 3
   },
   "file_extension": ".py",
   "mimetype": "text/x-python",
   "name": "python",
   "nbconvert_exporter": "python",
   "pygments_lexer": "ipython3",
   "version": "3.9.7"
  }
 },
 "nbformat": 4,
 "nbformat_minor": 5
}
