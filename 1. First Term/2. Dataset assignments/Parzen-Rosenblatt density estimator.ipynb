{
 "cells": [
  {
   "cell_type": "markdown",
   "id": "5a20e6bf",
   "metadata": {},
   "source": [
    "# Parzen-Rosenblatt Density Estimator\n"
   ]
  },
  {
   "cell_type": "code",
   "execution_count": 1,
   "id": "eeb35a8c",
   "metadata": {},
   "outputs": [],
   "source": [
    "import numpy as np\n",
    "import seaborn as sns"
   ]
  },
  {
   "cell_type": "markdown",
   "id": "c8a27b9c",
   "metadata": {},
   "source": [
    "## Data generating function\n",
    "Used for generating data with or without noise with different types of distribution"
   ]
  },
  {
   "cell_type": "markdown",
   "id": "07ea512a",
   "metadata": {},
   "source": [
    "### Distributions"
   ]
  },
  {
   "cell_type": "code",
   "execution_count": 2,
   "id": "de023b78",
   "metadata": {},
   "outputs": [],
   "source": [
    "def normal_dist(x, y, number_of_points, mean=4, sigma=0.5):\n",
    "    return np.random.normal([left_bound, right_bound], [1, 0.01], (number_of_points, ))"
   ]
  },
  {
   "cell_type": "code",
   "execution_count": 3,
   "id": "db444580",
   "metadata": {},
   "outputs": [],
   "source": [
    "def normal_dist(number_of_points):\n",
    "    return np.random.normal([0,0], [1, 0.01], size=(number_of_points, 2))"
   ]
  },
  {
   "cell_type": "code",
   "execution_count": 4,
   "id": "d608bb2f",
   "metadata": {},
   "outputs": [],
   "source": [
    "def logistic_dist(number_of_points):\n",
    "    return np.random.logistic([0,0], [1, 0.01], size=(number_of_points, 2))"
   ]
  },
  {
   "cell_type": "code",
   "execution_count": 5,
   "id": "e0a1d9a9",
   "metadata": {},
   "outputs": [],
   "source": [
    "def lognormal_dist(number_of_points):\n",
    "    return np.random.lognormal(size=(number_of_points, 2))"
   ]
  },
  {
   "cell_type": "code",
   "execution_count": 6,
   "id": "5ac9e0c1",
   "metadata": {},
   "outputs": [],
   "source": [
    "def exponential_dist(number_of_points):\n",
    "    return np.random.exponential(size=(number_of_points, 2))"
   ]
  },
  {
   "cell_type": "code",
   "execution_count": 7,
   "id": "55dd09e5",
   "metadata": {},
   "outputs": [],
   "source": [
    "def uniform_dist(number_of_points):\n",
    "    return np.random.uniform([-4, -4], [4, 4], size=(number_of_points, 2))"
   ]
  },
  {
   "cell_type": "markdown",
   "id": "ccf41b34",
   "metadata": {},
   "source": [
    "### Generation"
   ]
  },
  {
   "cell_type": "code",
   "execution_count": 8,
   "id": "af2091e8",
   "metadata": {},
   "outputs": [],
   "source": [
    "def generate_data(number_of_points=10000, dist=normal_dist):\n",
    "    \"\"\"\n",
    "    generate distribution of points \n",
    "    dist = normal_dist, logistic_dist, lognormal_dist, exponential_dist, uniform_dist\n",
    "    \n",
    "    return -> np.ndarray[X,Y]\n",
    "    \"\"\"\n",
    "    X = dist(number_of_points)\n",
    "    return X"
   ]
  },
  {
   "cell_type": "markdown",
   "id": "7351a055",
   "metadata": {},
   "source": [
    "## Kernels\n",
    "1. Uniform\n",
    "2. Triangle\n",
    "3. Epanechnikov\n",
    "4. Quartic\n",
    "5. Gaussuian"
   ]
  },
  {
   "cell_type": "markdown",
   "id": "7d17012e",
   "metadata": {},
   "source": [
    "#### Uniform Kernel $[|r| \\leq 1]$"
   ]
  },
  {
   "cell_type": "code",
   "execution_count": 9,
   "id": "c51b62b7",
   "metadata": {},
   "outputs": [],
   "source": [
    "def uniform_kernel(x, x0, l, h=1.0) -> np.ndarray:\n",
    "    # initialize weights\n",
    "    weights = np.zeros(x.shape)\n",
    "    r = np.abs((x - x0)/h/l)\n",
    "    \n",
    "    # find where r <= 1\n",
    "    indx = np.where(r <= 1)\n",
    "    weights[indx] = 1\n",
    "    return weights\n",
    "    "
   ]
  },
  {
   "cell_type": "markdown",
   "id": "9745bc3b",
   "metadata": {},
   "source": [
    "#### Triangle Kernel $(1 - |r|)\\;[|r|\\leq1]$"
   ]
  },
  {
   "cell_type": "code",
   "execution_count": 10,
   "id": "1d1fda40",
   "metadata": {},
   "outputs": [],
   "source": [
    "def triangle_kernel(x, x0, l, h=1.0) -> np.ndarray:\n",
    "    # initialize weights\n",
    "    weights = np.zeros(x.shape)\n",
    "    r = np.abs((x - x0)/h/l)\n",
    "    \n",
    "    # find where r <= 1\n",
    "    indx = np.where(r <= 1)\n",
    "   \n",
    "    weights[indx] = (1 - r[indx])\n",
    "    return weights"
   ]
  },
  {
   "cell_type": "markdown",
   "id": "e663c2b7",
   "metadata": {},
   "source": [
    "#### Epanechnikov Kernel $(1- r^2)\\;[|r|\\leq1]$"
   ]
  },
  {
   "cell_type": "code",
   "execution_count": 11,
   "id": "28080ed6",
   "metadata": {},
   "outputs": [],
   "source": [
    "def epanechnikov_kernel(x, x0, l, h=1.0) -> np.ndarray:\n",
    "    # initialize weights\n",
    "    weights = np.zeros(x.shape)\n",
    "    r_abs = np.abs((x - x0)/h/l)\n",
    "    r  = (x - x0) / h / l\n",
    "    \n",
    "    # find where r <= 1\n",
    "    indx = np.where(r_abs <= 1)\n",
    "    weights[indx] = (1 - r[indx]**2)\n",
    "    return weights"
   ]
  },
  {
   "cell_type": "markdown",
   "id": "fc11565f",
   "metadata": {},
   "source": [
    "#### Quartic Kernel $(1-r^2)^2\\;[|r|\\leq1]$"
   ]
  },
  {
   "cell_type": "code",
   "execution_count": 12,
   "id": "73f1c1e0",
   "metadata": {},
   "outputs": [],
   "source": [
    "def quartic_kernel(x, x0, l, h=1.0) -> np.ndarray:\n",
    "    # initialize weights\n",
    "    weights = np.zeros(x.shape)\n",
    "    r = np.abs((x - x0)/h/l)\n",
    "    \n",
    "    # find where r <= 1\n",
    "    indx = np.where(r <= 1)\n",
    "    weights[indx] = (1 - r[indx]**2)**2\n",
    "    return weights"
   ]
  },
  {
   "cell_type": "markdown",
   "id": "76e4e059",
   "metadata": {},
   "source": [
    "#### Gaussian Kernel $exp(-2r^2)$"
   ]
  },
  {
   "cell_type": "code",
   "execution_count": 13,
   "id": "9dcf04c6",
   "metadata": {},
   "outputs": [],
   "source": [
    "def gaussian_kernel(x, x0, l, h=1.0) -> np.ndarray:\n",
    "    # initialize weights\n",
    "    weights = np.zeros(x.shape)\n",
    "    r = (x - x0) / h / l\n",
    "    \n",
    "    weights = np.exp(-2*r**2)\n",
    "    \n",
    "    return weights"
   ]
  },
  {
   "cell_type": "markdown",
   "id": "dceb3a2e",
   "metadata": {},
   "source": [
    "## Parzen-Rosenblatt estimator "
   ]
  },
  {
   "cell_type": "code",
   "execution_count": 14,
   "id": "cfba8dc5",
   "metadata": {},
   "outputs": [],
   "source": [
    "def parzen_rosenblatt_estimator(data, kernel=epanechnikov_kernel, h=1.0):\n",
    "    length = len(data)\n",
    "    density = np.zeros((length,2))\n",
    "    \n",
    "    # Initialize all weight from the choosen kernel function\n",
    "    w = np.array([kernel(data, data[i], h, length) for i in range(length)])\n",
    "    \n",
    "    # P-S estimation \n",
    "    for i in range(length):\n",
    "        density[i,0] = np.sum(w[i,:,0])\n",
    "        density[i,1] = np.sum(w[i,:,1])\n",
    "        #density[i] = np.sum(w[i]) / length / h\n",
    "    \n",
    "    return density/length/h/length"
   ]
  },
  {
   "cell_type": "markdown",
   "id": "b6de14d8",
   "metadata": {},
   "source": [
    "## Let's plot some data!"
   ]
  },
  {
   "cell_type": "code",
   "execution_count": 15,
   "id": "60fe8cb7",
   "metadata": {},
   "outputs": [],
   "source": [
    "# Generate data from distrs\n",
    "X1 = generate_data(dist=normal_dist)\n",
    "X2 = generate_data(dist=logistic_dist)\n",
    "X3 = generate_data(dist=lognormal_dist)\n",
    "X4 = generate_data(dist=exponential_dist)\n",
    "X5 = generate_data(dist=uniform_dist)"
   ]
  },
  {
   "cell_type": "code",
   "execution_count": 16,
   "id": "76bcf104",
   "metadata": {},
   "outputs": [],
   "source": [
    "# Find their density it might take a while\n",
    "d1 = parzen_rosenblatt_estimator(X1, kernel=epanechnikov_kernel, h=1.0)\n",
    "d2 = parzen_rosenblatt_estimator(X2, kernel=epanechnikov_kernel, h=1.0)\n",
    "d3 = parzen_rosenblatt_estimator(X3, kernel=epanechnikov_kernel, h=1.0)\n",
    "d4 = parzen_rosenblatt_estimator(X4, kernel=epanechnikov_kernel, h=1.0)\n",
    "d5 = parzen_rosenblatt_estimator(X5, kernel=epanechnikov_kernel, h=1.0)"
   ]
  },
  {
   "cell_type": "code",
   "execution_count": 17,
   "id": "4d9cc492",
   "metadata": {},
   "outputs": [
    {
     "data": {
      "text/plain": [
       "<AxesSubplot:ylabel='Count'>"
      ]
     },
     "execution_count": 17,
     "metadata": {},
     "output_type": "execute_result"
    },
    {
     "data": {
      "image/png": "[encoded data removed]",
      "text/plain": [
       "<Figure size 432x288 with 1 Axes>"
      ]
     },
     "metadata": {
      "needs_background": "light"
     },
     "output_type": "display_data"
    }
   ],
   "source": [
    "sns.histplot(x=X1.T[0])"
   ]
  },
  {
   "cell_type": "code",
   "execution_count": 18,
   "id": "512ec4fa",
   "metadata": {},
   "outputs": [
    {
     "data": {
      "text/plain": [
       "<AxesSubplot:ylabel='Count'>"
      ]
     },
     "execution_count": 18,
     "metadata": {},
     "output_type": "execute_result"
    },
    {
     "data": {
      "image/png": "[encoded data removed]",
      "text/plain": [
       "<Figure size 432x288 with 1 Axes>"
      ]
     },
     "metadata": {
      "needs_background": "light"
     },
     "output_type": "display_data"
    }
   ],
   "source": [
    "sns.histplot(x=d1.T[0])"
   ]
  },
  {
   "cell_type": "code",
   "execution_count": 19,
   "id": "bedd1192",
   "metadata": {},
   "outputs": [
    {
     "data": {
      "text/plain": [
       "0.9999998920430919"
      ]
     },
     "execution_count": 19,
     "metadata": {},
     "output_type": "execute_result"
    }
   ],
   "source": [
    "np.sum(d5.T[1])"
   ]
  }
 ],
 "metadata": {
  "kernelspec": {
   "display_name": "Python 3",
   "language": "python",
   "name": "python3"
  },
  "language_info": {
   "codemirror_mode": {
    "name": "ipython",
    "version": 3
   },
   "file_extension": ".py",
   "mimetype": "text/x-python",
   "name": "python",
   "nbconvert_exporter": "python",
   "pygments_lexer": "ipython3",
   "version": "3.8.8"
  }
 },
 "nbformat": 4,
 "nbformat_minor": 5
}
